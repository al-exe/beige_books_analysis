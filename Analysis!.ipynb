{
 "cells": [
  {
   "cell_type": "markdown",
   "metadata": {},
   "source": [
    "# Beige Books Analysis!"
   ]
  },
  {
   "cell_type": "code",
   "execution_count": 1,
   "metadata": {
    "collapsed": true
   },
   "outputs": [],
   "source": [
    "import pandas as pd"
   ]
  },
  {
   "cell_type": "code",
   "execution_count": 9,
   "metadata": {},
   "outputs": [],
   "source": [
    "beige = pd.read_csv('final_table.csv')\n",
    "#beige.iloc[:,3:].to_csv('final_table.csv', sep = ',', encoding='utf-8', index=False)"
   ]
  },
  {
   "cell_type": "code",
   "execution_count": 10,
   "metadata": {},
   "outputs": [
    {
     "data": {
      "text/html": [
       "<div>\n",
       "<style>\n",
       "    .dataframe thead tr:only-child th {\n",
       "        text-align: right;\n",
       "    }\n",
       "\n",
       "    .dataframe thead th {\n",
       "        text-align: left;\n",
       "    }\n",
       "\n",
       "    .dataframe tbody tr th {\n",
       "        vertical-align: top;\n",
       "    }\n",
       "</style>\n",
       "<table border=\"1\" class=\"dataframe\">\n",
       "  <thead>\n",
       "    <tr style=\"text-align: right;\">\n",
       "      <th></th>\n",
       "      <th>ID</th>\n",
       "      <th>Date</th>\n",
       "      <th>District</th>\n",
       "      <th>Sector Heading</th>\n",
       "      <th>cleaner</th>\n",
       "      <th>keywords</th>\n",
       "    </tr>\n",
       "  </thead>\n",
       "  <tbody>\n",
       "    <tr>\n",
       "      <th>0</th>\n",
       "      <td>1</td>\n",
       "      <td>5-20-1970</td>\n",
       "      <td>Atlanta</td>\n",
       "      <td>Summary of Economic Activity</td>\n",
       "      <td>['mood', 'director', 'pessimism', 'optimism', ...</td>\n",
       "      <td>['area', 'construction', 'plant', 'project', '...</td>\n",
       "    </tr>\n",
       "    <tr>\n",
       "      <th>1</th>\n",
       "      <td>2</td>\n",
       "      <td>5-20-1970</td>\n",
       "      <td>Boston</td>\n",
       "      <td>Summary of Economic Activity</td>\n",
       "      <td>['discussion', 'monday', 'friday', 'district',...</td>\n",
       "      <td>['report', 'business', 'note', 'activity', 'ar...</td>\n",
       "    </tr>\n",
       "    <tr>\n",
       "      <th>2</th>\n",
       "      <td>3</td>\n",
       "      <td>5-20-1970</td>\n",
       "      <td>Chicago</td>\n",
       "      <td>Summary of Economic Activity</td>\n",
       "      <td>['statement', 'conversation', 'mood', 'pessimi...</td>\n",
       "      <td>['decline', 'strike', 'demand', 'money', 'bank...</td>\n",
       "    </tr>\n",
       "    <tr>\n",
       "      <th>3</th>\n",
       "      <td>4</td>\n",
       "      <td>5-20-1970</td>\n",
       "      <td>Cleveland</td>\n",
       "      <td>Summary of Economic Activity</td>\n",
       "      <td>['activity', 'district', 'past', 'week', 'truc...</td>\n",
       "      <td>['price', 'economist', 'director', 'report', '...</td>\n",
       "    </tr>\n",
       "    <tr>\n",
       "      <th>4</th>\n",
       "      <td>5</td>\n",
       "      <td>5-20-1970</td>\n",
       "      <td>Dallas</td>\n",
       "      <td>Summary of Economic Activity</td>\n",
       "      <td>['inflation', 'concern', 'district', 'board', ...</td>\n",
       "      <td>['district', 'employment', 'increase', 'sale',...</td>\n",
       "    </tr>\n",
       "  </tbody>\n",
       "</table>\n",
       "</div>"
      ],
      "text/plain": [
       "   ID       Date   District                Sector Heading  \\\n",
       "0   1  5-20-1970    Atlanta  Summary of Economic Activity   \n",
       "1   2  5-20-1970     Boston  Summary of Economic Activity   \n",
       "2   3  5-20-1970    Chicago  Summary of Economic Activity   \n",
       "3   4  5-20-1970  Cleveland  Summary of Economic Activity   \n",
       "4   5  5-20-1970     Dallas  Summary of Economic Activity   \n",
       "\n",
       "                                             cleaner  \\\n",
       "0  ['mood', 'director', 'pessimism', 'optimism', ...   \n",
       "1  ['discussion', 'monday', 'friday', 'district',...   \n",
       "2  ['statement', 'conversation', 'mood', 'pessimi...   \n",
       "3  ['activity', 'district', 'past', 'week', 'truc...   \n",
       "4  ['inflation', 'concern', 'district', 'board', ...   \n",
       "\n",
       "                                            keywords  \n",
       "0  ['area', 'construction', 'plant', 'project', '...  \n",
       "1  ['report', 'business', 'note', 'activity', 'ar...  \n",
       "2  ['decline', 'strike', 'demand', 'money', 'bank...  \n",
       "3  ['price', 'economist', 'director', 'report', '...  \n",
       "4  ['district', 'employment', 'increase', 'sale',...  "
      ]
     },
     "execution_count": 10,
     "metadata": {},
     "output_type": "execute_result"
    }
   ],
   "source": [
    "beige.head()"
   ]
  },
  {
   "cell_type": "code",
   "execution_count": null,
   "metadata": {
    "collapsed": true
   },
   "outputs": [],
   "source": []
  }
 ],
 "metadata": {
  "kernelspec": {
   "display_name": "Python 3",
   "language": "python",
   "name": "python3"
  },
  "language_info": {
   "codemirror_mode": {
    "name": "ipython",
    "version": 3
   },
   "file_extension": ".py",
   "mimetype": "text/x-python",
   "name": "python",
   "nbconvert_exporter": "python",
   "pygments_lexer": "ipython3",
   "version": "3.6.3"
  }
 },
 "nbformat": 4,
 "nbformat_minor": 2
}
