{
 "cells": [
  {
   "cell_type": "code",
   "execution_count": 1,
   "metadata": {},
   "outputs": [
    {
     "name": "stderr",
     "output_type": "stream",
     "text": [
      "C:\\Users\\keiko\\Anaconda3\\lib\\site-packages\\gensim\\utils.py:1197: UserWarning: detected Windows; aliasing chunkize to chunkize_serial\n",
      "  warnings.warn(\"detected Windows; aliasing chunkize to chunkize_serial\")\n"
     ]
    }
   ],
   "source": [
    "import pandas as pd\n",
    "import gensim"
   ]
  },
  {
   "cell_type": "code",
   "execution_count": 2,
   "metadata": {
    "collapsed": true
   },
   "outputs": [],
   "source": [
    "import nltk\n",
    "from nltk.corpus import stopwords"
   ]
  },
  {
   "cell_type": "code",
   "execution_count": 3,
   "metadata": {
    "collapsed": true
   },
   "outputs": [],
   "source": [
    "import string\n",
    "from string import punctuation"
   ]
  },
  {
   "cell_type": "code",
   "execution_count": 4,
   "metadata": {
    "collapsed": true
   },
   "outputs": [],
   "source": [
    "beige = pd.read_csv('beige_books.csv')"
   ]
  },
  {
   "cell_type": "code",
   "execution_count": null,
   "metadata": {
    "collapsed": true
   },
   "outputs": [],
   "source": [
    "#for removing stop words/stemming words\n",
    "%%capture\n",
    "!pip install spacy\n",
    "!python -m spacy download en\n",
    "!pip install --no-cache-dir wordcloud\n",
    "!pip3 install --no-cache-dir -U folium\n",
    "!pip install --no-cache-dir textblob\n",
    "from datascience import make_array\n",
    "from datascience import *\n",
    "import numpy as np\n",
    "import matplotlib.pyplot as plt\n",
    "from ipywidgets import *\n",
    "%matplotlib inline\n",
    "import folium\n",
    "import pandas as pd\n",
    "from IPython.display import HTML, display, IFrame\n",
    "import folium\n",
    "import spacy\n",
    "from wordcloud import WordCloud"
   ]
  },
  {
   "cell_type": "markdown",
   "metadata": {},
   "source": [
    "## Preprocessing"
   ]
  },
  {
   "cell_type": "code",
   "execution_count": 5,
   "metadata": {},
   "outputs": [
    {
     "data": {
      "text/html": [
       "<div>\n",
       "<style>\n",
       "    .dataframe thead tr:only-child th {\n",
       "        text-align: right;\n",
       "    }\n",
       "\n",
       "    .dataframe thead th {\n",
       "        text-align: left;\n",
       "    }\n",
       "\n",
       "    .dataframe tbody tr th {\n",
       "        vertical-align: top;\n",
       "    }\n",
       "</style>\n",
       "<table border=\"1\" class=\"dataframe\">\n",
       "  <thead>\n",
       "    <tr style=\"text-align: right;\">\n",
       "      <th></th>\n",
       "      <th>ID</th>\n",
       "      <th>Date</th>\n",
       "      <th>District</th>\n",
       "      <th>Sector Heading</th>\n",
       "      <th>Sector Text</th>\n",
       "    </tr>\n",
       "  </thead>\n",
       "  <tbody>\n",
       "    <tr>\n",
       "      <th>0</th>\n",
       "      <td>1</td>\n",
       "      <td>5-20-1970</td>\n",
       "      <td>Atlanta</td>\n",
       "      <td>Summary of Economic Activity</td>\n",
       "      <td>The mood of our directors varies from pessimis...</td>\n",
       "    </tr>\n",
       "    <tr>\n",
       "      <th>1</th>\n",
       "      <td>2</td>\n",
       "      <td>5-20-1970</td>\n",
       "      <td>Boston</td>\n",
       "      <td>Summary of Economic Activity</td>\n",
       "      <td>Discussions Monday (May 18) and last Friday wi...</td>\n",
       "    </tr>\n",
       "    <tr>\n",
       "      <th>2</th>\n",
       "      <td>3</td>\n",
       "      <td>5-20-1970</td>\n",
       "      <td>Chicago</td>\n",
       "      <td>Summary of Economic Activity</td>\n",
       "      <td>In published statements and private conversati...</td>\n",
       "    </tr>\n",
       "    <tr>\n",
       "      <th>3</th>\n",
       "      <td>4</td>\n",
       "      <td>5-20-1970</td>\n",
       "      <td>Cleveland</td>\n",
       "      <td>Summary of Economic Activity</td>\n",
       "      <td>Economic activity in the District has been dis...</td>\n",
       "    </tr>\n",
       "    <tr>\n",
       "      <th>4</th>\n",
       "      <td>5</td>\n",
       "      <td>5-20-1970</td>\n",
       "      <td>Dallas</td>\n",
       "      <td>Summary of Economic Activity</td>\n",
       "      <td>Continued inflation is the major concern of El...</td>\n",
       "    </tr>\n",
       "  </tbody>\n",
       "</table>\n",
       "</div>"
      ],
      "text/plain": [
       "  ID       Date   District                Sector Heading  \\\n",
       "0  1  5-20-1970    Atlanta  Summary of Economic Activity   \n",
       "1  2  5-20-1970     Boston  Summary of Economic Activity   \n",
       "2  3  5-20-1970    Chicago  Summary of Economic Activity   \n",
       "3  4  5-20-1970  Cleveland  Summary of Economic Activity   \n",
       "4  5  5-20-1970     Dallas  Summary of Economic Activity   \n",
       "\n",
       "                                         Sector Text  \n",
       "0  The mood of our directors varies from pessimis...  \n",
       "1  Discussions Monday (May 18) and last Friday wi...  \n",
       "2  In published statements and private conversati...  \n",
       "3  Economic activity in the District has been dis...  \n",
       "4  Continued inflation is the major concern of El...  "
      ]
     },
     "execution_count": 5,
     "metadata": {},
     "output_type": "execute_result"
    }
   ],
   "source": [
    "beige.head()"
   ]
  },
  {
   "cell_type": "code",
   "execution_count": 6,
   "metadata": {},
   "outputs": [
    {
     "name": "stdout",
     "output_type": "stream",
     "text": [
      "25273\n"
     ]
    }
   ],
   "source": [
    "print(len(beige['Sector Text']))\n",
    "texts_series = beige['Sector Text']\n",
    "texts = list(beige['Sector Text'])"
   ]
  },
  {
   "cell_type": "markdown",
   "metadata": {},
   "source": [
    "#### Getting rid of null vals, punctuation marks, stop words, and lowercasing"
   ]
  },
  {
   "cell_type": "code",
   "execution_count": 29,
   "metadata": {
    "scrolled": true
   },
   "outputs": [
    {
     "name": "stdout",
     "output_type": "stream",
     "text": [
      "139\n"
     ]
    },
    {
     "data": {
      "text/html": [
       "<div>\n",
       "<style>\n",
       "    .dataframe thead tr:only-child th {\n",
       "        text-align: right;\n",
       "    }\n",
       "\n",
       "    .dataframe thead th {\n",
       "        text-align: left;\n",
       "    }\n",
       "\n",
       "    .dataframe tbody tr th {\n",
       "        vertical-align: top;\n",
       "    }\n",
       "</style>\n",
       "<table border=\"1\" class=\"dataframe\">\n",
       "  <thead>\n",
       "    <tr style=\"text-align: right;\">\n",
       "      <th></th>\n",
       "      <th>ID</th>\n",
       "      <th>Date</th>\n",
       "      <th>District</th>\n",
       "      <th>Sector Heading</th>\n",
       "      <th>Sector Text</th>\n",
       "    </tr>\n",
       "  </thead>\n",
       "  <tbody>\n",
       "    <tr>\n",
       "      <th>20</th>\n",
       "      <td>21</td>\n",
       "      <td>5-20-1970</td>\n",
       "      <td>San Francisco</td>\n",
       "      <td>Summary for Selected Economic Aspects</td>\n",
       "      <td>NaN</td>\n",
       "    </tr>\n",
       "    <tr>\n",
       "      <th>29</th>\n",
       "      <td>30</td>\n",
       "      <td>5-20-1970</td>\n",
       "      <td>San Francisco</td>\n",
       "      <td>Inventories</td>\n",
       "      <td>NaN</td>\n",
       "    </tr>\n",
       "    <tr>\n",
       "      <th>30</th>\n",
       "      <td>31</td>\n",
       "      <td>5-20-1970</td>\n",
       "      <td>San Francisco</td>\n",
       "      <td>Both higher and lower inventories are reported.</td>\n",
       "      <td>NaN</td>\n",
       "    </tr>\n",
       "    <tr>\n",
       "      <th>92</th>\n",
       "      <td>93</td>\n",
       "      <td>10-14-1970</td>\n",
       "      <td>Atlanta</td>\n",
       "      <td>five-week delivery.</td>\n",
       "      <td>NaN</td>\n",
       "    </tr>\n",
       "    <tr>\n",
       "      <th>121</th>\n",
       "      <td>122</td>\n",
       "      <td>12-9-1970</td>\n",
       "      <td>Cleveland</td>\n",
       "      <td>one- and two-year maturity ranges.</td>\n",
       "      <td>NaN</td>\n",
       "    </tr>\n",
       "    <tr>\n",
       "      <th>135</th>\n",
       "      <td>136</td>\n",
       "      <td>1-12-1971</td>\n",
       "      <td>Dallas</td>\n",
       "      <td>as a whole.</td>\n",
       "      <td>NaN</td>\n",
       "    </tr>\n",
       "    <tr>\n",
       "      <th>216</th>\n",
       "      <td>217</td>\n",
       "      <td>7-21-1971</td>\n",
       "      <td>San Francisco</td>\n",
       "      <td>August 1.</td>\n",
       "      <td>NaN</td>\n",
       "    </tr>\n",
       "    <tr>\n",
       "      <th>258</th>\n",
       "      <td>259</td>\n",
       "      <td>11-10-1971</td>\n",
       "      <td>Boston</td>\n",
       "      <td>Regulation Q.</td>\n",
       "      <td>NaN</td>\n",
       "    </tr>\n",
       "    <tr>\n",
       "      <th>584</th>\n",
       "      <td>585</td>\n",
       "      <td>2-13-1974</td>\n",
       "      <td>Richmond</td>\n",
       "      <td>will decline.</td>\n",
       "      <td>NaN</td>\n",
       "    </tr>\n",
       "    <tr>\n",
       "      <th>628</th>\n",
       "      <td>629</td>\n",
       "      <td>6-12-1974</td>\n",
       "      <td>Dallas</td>\n",
       "      <td>just 6 percent.</td>\n",
       "      <td>NaN</td>\n",
       "    </tr>\n",
       "    <tr>\n",
       "      <th>710</th>\n",
       "      <td>711</td>\n",
       "      <td>1-15-1975</td>\n",
       "      <td>Atlanta</td>\n",
       "      <td>capital-spending plans.</td>\n",
       "      <td>NaN</td>\n",
       "    </tr>\n",
       "    <tr>\n",
       "      <th>788</th>\n",
       "      <td>789</td>\n",
       "      <td>7-9-1975</td>\n",
       "      <td>Kansas City</td>\n",
       "      <td>1-year CD's.</td>\n",
       "      <td>NaN</td>\n",
       "    </tr>\n",
       "    <tr>\n",
       "      <th>841</th>\n",
       "      <td>842</td>\n",
       "      <td>11-12-1975</td>\n",
       "      <td>Philadelphia</td>\n",
       "      <td>tax-exempt income.</td>\n",
       "      <td>NaN</td>\n",
       "    </tr>\n",
       "    <tr>\n",
       "      <th>1007</th>\n",
       "      <td>1007</td>\n",
       "      <td>1-13-1977</td>\n",
       "      <td>Chicago</td>\n",
       "      <td>1973-74.</td>\n",
       "      <td>NaN</td>\n",
       "    </tr>\n",
       "    <tr>\n",
       "      <th>1287</th>\n",
       "      <td>1287</td>\n",
       "      <td>9-13-1978</td>\n",
       "      <td>Boston</td>\n",
       "      <td>policy-induced recession at this time.</td>\n",
       "      <td>NaN</td>\n",
       "    </tr>\n",
       "    <tr>\n",
       "      <th>1366</th>\n",
       "      <td>1366</td>\n",
       "      <td>4-11-1979</td>\n",
       "      <td>Minneapolis</td>\n",
       "      <td>A Slowdown and a Threat</td>\n",
       "      <td>NaN</td>\n",
       "    </tr>\n",
       "    <tr>\n",
       "      <th>1989</th>\n",
       "      <td>1989</td>\n",
       "      <td>8-11-1981</td>\n",
       "      <td>Cleveland</td>\n",
       "      <td>&lt;&gt;</td>\n",
       "      <td>NaN</td>\n",
       "    </tr>\n",
       "    <tr>\n",
       "      <th>2456</th>\n",
       "      <td>2456</td>\n",
       "      <td>6-23-1982</td>\n",
       "      <td>Cleveland</td>\n",
       "      <td>&lt;&gt;</td>\n",
       "      <td>NaN</td>\n",
       "    </tr>\n",
       "    <tr>\n",
       "      <th>2714</th>\n",
       "      <td>2714</td>\n",
       "      <td>12-15-1982</td>\n",
       "      <td>Chicago</td>\n",
       "      <td>.</td>\n",
       "      <td>NaN</td>\n",
       "    </tr>\n",
       "    <tr>\n",
       "      <th>3172</th>\n",
       "      <td>3172</td>\n",
       "      <td>9-20-1983</td>\n",
       "      <td>Philadelphia</td>\n",
       "      <td>pre-MMDA levels.</td>\n",
       "      <td>NaN</td>\n",
       "    </tr>\n",
       "    <tr>\n",
       "      <th>5796</th>\n",
       "      <td>5795</td>\n",
       "      <td>6-15-1988</td>\n",
       "      <td>Richmond</td>\n",
       "      <td>Respondents Expecting Rate of Increase to</td>\n",
       "      <td>NaN</td>\n",
       "    </tr>\n",
       "    <tr>\n",
       "      <th>5797</th>\n",
       "      <td>5796</td>\n",
       "      <td>6-15-1988</td>\n",
       "      <td>Richmond</td>\n",
       "      <td>:</td>\n",
       "      <td>NaN</td>\n",
       "    </tr>\n",
       "    <tr>\n",
       "      <th>5798</th>\n",
       "      <td>5797</td>\n",
       "      <td>6-15-1988</td>\n",
       "      <td>Richmond</td>\n",
       "      <td>Rise</td>\n",
       "      <td>NaN</td>\n",
       "    </tr>\n",
       "    <tr>\n",
       "      <th>5799</th>\n",
       "      <td>5798</td>\n",
       "      <td>6-15-1988</td>\n",
       "      <td>Richmond</td>\n",
       "      <td>Slow</td>\n",
       "      <td>NaN</td>\n",
       "    </tr>\n",
       "    <tr>\n",
       "      <th>5800</th>\n",
       "      <td>5799</td>\n",
       "      <td>6-15-1988</td>\n",
       "      <td>Richmond</td>\n",
       "      <td>Not Change</td>\n",
       "      <td>NaN</td>\n",
       "    </tr>\n",
       "    <tr>\n",
       "      <th>5801</th>\n",
       "      <td>5800</td>\n",
       "      <td>6-15-1988</td>\n",
       "      <td>Richmond</td>\n",
       "      <td>Prices</td>\n",
       "      <td>NaN</td>\n",
       "    </tr>\n",
       "    <tr>\n",
       "      <th>5802</th>\n",
       "      <td>5801</td>\n",
       "      <td>6-15-1988</td>\n",
       "      <td>Richmond</td>\n",
       "      <td>40%</td>\n",
       "      <td>NaN</td>\n",
       "    </tr>\n",
       "    <tr>\n",
       "      <th>5803</th>\n",
       "      <td>5802</td>\n",
       "      <td>6-15-1988</td>\n",
       "      <td>Richmond</td>\n",
       "      <td>10%</td>\n",
       "      <td>NaN</td>\n",
       "    </tr>\n",
       "    <tr>\n",
       "      <th>5804</th>\n",
       "      <td>5803</td>\n",
       "      <td>6-15-1988</td>\n",
       "      <td>Richmond</td>\n",
       "      <td>50%</td>\n",
       "      <td>NaN</td>\n",
       "    </tr>\n",
       "    <tr>\n",
       "      <th>5805</th>\n",
       "      <td>5804</td>\n",
       "      <td>6-15-1988</td>\n",
       "      <td>Richmond</td>\n",
       "      <td>Wages</td>\n",
       "      <td>NaN</td>\n",
       "    </tr>\n",
       "    <tr>\n",
       "      <th>...</th>\n",
       "      <td>...</td>\n",
       "      <td>...</td>\n",
       "      <td>...</td>\n",
       "      <td>...</td>\n",
       "      <td>...</td>\n",
       "    </tr>\n",
       "    <tr>\n",
       "      <th>18279</th>\n",
       "      <td>18276</td>\n",
       "      <td>6-11-2008</td>\n",
       "      <td>Atlanta</td>\n",
       "      <td>.</td>\n",
       "      <td>NaN</td>\n",
       "    </tr>\n",
       "    <tr>\n",
       "      <th>18282</th>\n",
       "      <td>18279</td>\n",
       "      <td>6-11-2008</td>\n",
       "      <td>Atlanta</td>\n",
       "      <td>Agriculture</td>\n",
       "      <td>NaN</td>\n",
       "    </tr>\n",
       "    <tr>\n",
       "      <th>18304</th>\n",
       "      <td>18301</td>\n",
       "      <td>6-11-2008</td>\n",
       "      <td>Cleveland</td>\n",
       "      <td>Energy</td>\n",
       "      <td>NaN</td>\n",
       "    </tr>\n",
       "    <tr>\n",
       "      <th>19412</th>\n",
       "      <td>19409</td>\n",
       "      <td>12-2-2009</td>\n",
       "      <td>San Francisco</td>\n",
       "      <td>.</td>\n",
       "      <td>NaN</td>\n",
       "    </tr>\n",
       "    <tr>\n",
       "      <th>20707</th>\n",
       "      <td>20704</td>\n",
       "      <td>10-19-2011</td>\n",
       "      <td>Philadelphia</td>\n",
       "      <td>.</td>\n",
       "      <td>NaN</td>\n",
       "    </tr>\n",
       "    <tr>\n",
       "      <th>21021</th>\n",
       "      <td>21018</td>\n",
       "      <td>4-11-2012</td>\n",
       "      <td>Dallas</td>\n",
       "      <td>Prices</td>\n",
       "      <td>NaN</td>\n",
       "    </tr>\n",
       "    <tr>\n",
       "      <th>21478</th>\n",
       "      <td>21475</td>\n",
       "      <td>11-28-2012</td>\n",
       "      <td>Minneapolis</td>\n",
       "      <td>.</td>\n",
       "      <td>NaN</td>\n",
       "    </tr>\n",
       "    <tr>\n",
       "      <th>21563</th>\n",
       "      <td>21560</td>\n",
       "      <td>1-16-2013</td>\n",
       "      <td>Kansas City</td>\n",
       "      <td>Â</td>\n",
       "      <td>NaN</td>\n",
       "    </tr>\n",
       "    <tr>\n",
       "      <th>21566</th>\n",
       "      <td>21563</td>\n",
       "      <td>1-16-2013</td>\n",
       "      <td>Kansas City</td>\n",
       "      <td>Wages and Prices</td>\n",
       "      <td>NaN</td>\n",
       "    </tr>\n",
       "    <tr>\n",
       "      <th>21591</th>\n",
       "      <td>21588</td>\n",
       "      <td>1-16-2013</td>\n",
       "      <td>Richmond</td>\n",
       "      <td>Retail</td>\n",
       "      <td>NaN</td>\n",
       "    </tr>\n",
       "    <tr>\n",
       "      <th>21605</th>\n",
       "      <td>21602</td>\n",
       "      <td>1-16-2013</td>\n",
       "      <td>San Francisco</td>\n",
       "      <td>Return to top</td>\n",
       "      <td>NaN</td>\n",
       "    </tr>\n",
       "    <tr>\n",
       "      <th>21676</th>\n",
       "      <td>21673</td>\n",
       "      <td>3-6-2013</td>\n",
       "      <td>Philadelphia</td>\n",
       "      <td>S</td>\n",
       "      <td>NaN</td>\n",
       "    </tr>\n",
       "    <tr>\n",
       "      <th>21724</th>\n",
       "      <td>21721</td>\n",
       "      <td>4-17-2013</td>\n",
       "      <td>Cleveland</td>\n",
       "      <td>Manufacturing</td>\n",
       "      <td>NaN</td>\n",
       "    </tr>\n",
       "    <tr>\n",
       "      <th>21813</th>\n",
       "      <td>21810</td>\n",
       "      <td>6-5-2013</td>\n",
       "      <td>Cleveland</td>\n",
       "      <td>Manufacturing</td>\n",
       "      <td>NaN</td>\n",
       "    </tr>\n",
       "    <tr>\n",
       "      <th>21839</th>\n",
       "      <td>21836</td>\n",
       "      <td>6-5-2013</td>\n",
       "      <td>Minneapolis</td>\n",
       "      <td>with some exceptions noted.</td>\n",
       "      <td>NaN</td>\n",
       "    </tr>\n",
       "    <tr>\n",
       "      <th>21904</th>\n",
       "      <td>21901</td>\n",
       "      <td>7-17-2013</td>\n",
       "      <td>Cleveland</td>\n",
       "      <td>Manufacturing</td>\n",
       "      <td>NaN</td>\n",
       "    </tr>\n",
       "    <tr>\n",
       "      <th>21993</th>\n",
       "      <td>21990</td>\n",
       "      <td>9-4-2013</td>\n",
       "      <td>Cleveland</td>\n",
       "      <td>Manufacturing</td>\n",
       "      <td>NaN</td>\n",
       "    </tr>\n",
       "    <tr>\n",
       "      <th>22083</th>\n",
       "      <td>22080</td>\n",
       "      <td>10-16-2013</td>\n",
       "      <td>Cleveland</td>\n",
       "      <td>Manufacturing</td>\n",
       "      <td>NaN</td>\n",
       "    </tr>\n",
       "    <tr>\n",
       "      <th>22173</th>\n",
       "      <td>22170</td>\n",
       "      <td>12-4-2013</td>\n",
       "      <td>Cleveland</td>\n",
       "      <td>Manufacturing</td>\n",
       "      <td>NaN</td>\n",
       "    </tr>\n",
       "    <tr>\n",
       "      <th>22440</th>\n",
       "      <td>22437</td>\n",
       "      <td>4-16-2014</td>\n",
       "      <td>Cleveland</td>\n",
       "      <td>Manufacturing</td>\n",
       "      <td>NaN</td>\n",
       "    </tr>\n",
       "    <tr>\n",
       "      <th>22529</th>\n",
       "      <td>22526</td>\n",
       "      <td>6-4-2014</td>\n",
       "      <td>Cleveland</td>\n",
       "      <td>Manufacturing</td>\n",
       "      <td>NaN</td>\n",
       "    </tr>\n",
       "    <tr>\n",
       "      <th>22532</th>\n",
       "      <td>22529</td>\n",
       "      <td>6-4-2014</td>\n",
       "      <td>Cleveland</td>\n",
       "      <td>Consumer Spending</td>\n",
       "      <td>NaN</td>\n",
       "    </tr>\n",
       "    <tr>\n",
       "      <th>22710</th>\n",
       "      <td>22707</td>\n",
       "      <td>9-3-2014</td>\n",
       "      <td>Cleveland</td>\n",
       "      <td>Manufacturing</td>\n",
       "      <td>NaN</td>\n",
       "    </tr>\n",
       "    <tr>\n",
       "      <th>22898</th>\n",
       "      <td>22895</td>\n",
       "      <td>12-3-2014</td>\n",
       "      <td>Dallas</td>\n",
       "      <td>Manufacturing</td>\n",
       "      <td>NaN</td>\n",
       "    </tr>\n",
       "    <tr>\n",
       "      <th>22959</th>\n",
       "      <td>22956</td>\n",
       "      <td>1-14-2015</td>\n",
       "      <td>Atlanta</td>\n",
       "      <td>Real Estate and Construction</td>\n",
       "      <td>NaN</td>\n",
       "    </tr>\n",
       "    <tr>\n",
       "      <th>23535</th>\n",
       "      <td>23532</td>\n",
       "      <td>12-2-2015</td>\n",
       "      <td>Cleveland</td>\n",
       "      <td>Consumer Spending</td>\n",
       "      <td>NaN</td>\n",
       "    </tr>\n",
       "    <tr>\n",
       "      <th>23579</th>\n",
       "      <td>23576</td>\n",
       "      <td>12-2-2015</td>\n",
       "      <td>Richmond</td>\n",
       "      <td>Manufacturing</td>\n",
       "      <td>NaN</td>\n",
       "    </tr>\n",
       "    <tr>\n",
       "      <th>23716</th>\n",
       "      <td>23713</td>\n",
       "      <td>3-02-2016</td>\n",
       "      <td>Cleveland</td>\n",
       "      <td>Banking</td>\n",
       "      <td>NaN</td>\n",
       "    </tr>\n",
       "    <tr>\n",
       "      <th>24846</th>\n",
       "      <td>24843</td>\n",
       "      <td>7-12-2017</td>\n",
       "      <td>St Louis</td>\n",
       "      <td>.</td>\n",
       "      <td>NaN</td>\n",
       "    </tr>\n",
       "    <tr>\n",
       "      <th>25178</th>\n",
       "      <td>25175</td>\n",
       "      <td>1-17-2018</td>\n",
       "      <td>Boston</td>\n",
       "      <td>.</td>\n",
       "      <td>NaN</td>\n",
       "    </tr>\n",
       "  </tbody>\n",
       "</table>\n",
       "<p>139 rows × 5 columns</p>\n",
       "</div>"
      ],
      "text/plain": [
       "          ID        Date       District  \\\n",
       "20        21   5-20-1970  San Francisco   \n",
       "29        30   5-20-1970  San Francisco   \n",
       "30        31   5-20-1970  San Francisco   \n",
       "92        93  10-14-1970        Atlanta   \n",
       "121      122   12-9-1970      Cleveland   \n",
       "135      136   1-12-1971         Dallas   \n",
       "216      217   7-21-1971  San Francisco   \n",
       "258      259  11-10-1971         Boston   \n",
       "584      585   2-13-1974       Richmond   \n",
       "628      629   6-12-1974         Dallas   \n",
       "710      711   1-15-1975        Atlanta   \n",
       "788      789    7-9-1975    Kansas City   \n",
       "841      842  11-12-1975   Philadelphia   \n",
       "1007    1007   1-13-1977        Chicago   \n",
       "1287    1287   9-13-1978         Boston   \n",
       "1366    1366   4-11-1979    Minneapolis   \n",
       "1989    1989   8-11-1981      Cleveland   \n",
       "2456    2456   6-23-1982      Cleveland   \n",
       "2714    2714  12-15-1982        Chicago   \n",
       "3172    3172   9-20-1983   Philadelphia   \n",
       "5796    5795   6-15-1988       Richmond   \n",
       "5797    5796   6-15-1988       Richmond   \n",
       "5798    5797   6-15-1988       Richmond   \n",
       "5799    5798   6-15-1988       Richmond   \n",
       "5800    5799   6-15-1988       Richmond   \n",
       "5801    5800   6-15-1988       Richmond   \n",
       "5802    5801   6-15-1988       Richmond   \n",
       "5803    5802   6-15-1988       Richmond   \n",
       "5804    5803   6-15-1988       Richmond   \n",
       "5805    5804   6-15-1988       Richmond   \n",
       "...      ...         ...            ...   \n",
       "18279  18276   6-11-2008        Atlanta   \n",
       "18282  18279   6-11-2008        Atlanta   \n",
       "18304  18301   6-11-2008      Cleveland   \n",
       "19412  19409   12-2-2009  San Francisco   \n",
       "20707  20704  10-19-2011   Philadelphia   \n",
       "21021  21018   4-11-2012         Dallas   \n",
       "21478  21475  11-28-2012    Minneapolis   \n",
       "21563  21560   1-16-2013    Kansas City   \n",
       "21566  21563   1-16-2013    Kansas City   \n",
       "21591  21588   1-16-2013       Richmond   \n",
       "21605  21602   1-16-2013  San Francisco   \n",
       "21676  21673    3-6-2013   Philadelphia   \n",
       "21724  21721   4-17-2013      Cleveland   \n",
       "21813  21810    6-5-2013      Cleveland   \n",
       "21839  21836    6-5-2013    Minneapolis   \n",
       "21904  21901   7-17-2013      Cleveland   \n",
       "21993  21990    9-4-2013      Cleveland   \n",
       "22083  22080  10-16-2013      Cleveland   \n",
       "22173  22170   12-4-2013      Cleveland   \n",
       "22440  22437   4-16-2014      Cleveland   \n",
       "22529  22526    6-4-2014      Cleveland   \n",
       "22532  22529    6-4-2014      Cleveland   \n",
       "22710  22707    9-3-2014      Cleveland   \n",
       "22898  22895   12-3-2014         Dallas   \n",
       "22959  22956   1-14-2015        Atlanta   \n",
       "23535  23532   12-2-2015      Cleveland   \n",
       "23579  23576   12-2-2015       Richmond   \n",
       "23716  23713   3-02-2016      Cleveland   \n",
       "24846  24843   7-12-2017       St Louis   \n",
       "25178  25175   1-17-2018         Boston   \n",
       "\n",
       "                                        Sector Heading Sector Text  \n",
       "20               Summary for Selected Economic Aspects         NaN  \n",
       "29                                         Inventories         NaN  \n",
       "30     Both higher and lower inventories are reported.         NaN  \n",
       "92                                 five-week delivery.         NaN  \n",
       "121                 one- and two-year maturity ranges.         NaN  \n",
       "135                                        as a whole.         NaN  \n",
       "216                                          August 1.         NaN  \n",
       "258                                      Regulation Q.         NaN  \n",
       "584                                      will decline.         NaN  \n",
       "628                                    just 6 percent.         NaN  \n",
       "710                            capital-spending plans.         NaN  \n",
       "788                                       1-year CD's.         NaN  \n",
       "841                                 tax-exempt income.         NaN  \n",
       "1007                                          1973-74.         NaN  \n",
       "1287            policy-induced recession at this time.         NaN  \n",
       "1366                           A Slowdown and a Threat         NaN  \n",
       "1989                                                <>         NaN  \n",
       "2456                                                <>         NaN  \n",
       "2714                                                 .         NaN  \n",
       "3172                                  pre-MMDA levels.         NaN  \n",
       "5796         Respondents Expecting Rate of Increase to         NaN  \n",
       "5797                                                 :         NaN  \n",
       "5798                                              Rise         NaN  \n",
       "5799                                              Slow         NaN  \n",
       "5800                                        Not Change         NaN  \n",
       "5801                                            Prices         NaN  \n",
       "5802                                               40%         NaN  \n",
       "5803                                               10%         NaN  \n",
       "5804                                               50%         NaN  \n",
       "5805                                             Wages         NaN  \n",
       "...                                                ...         ...  \n",
       "18279                                                .         NaN  \n",
       "18282                                      Agriculture         NaN  \n",
       "18304                                           Energy         NaN  \n",
       "19412                                                .         NaN  \n",
       "20707                                                .         NaN  \n",
       "21021                                           Prices         NaN  \n",
       "21478                                                .         NaN  \n",
       "21563                                                Â         NaN  \n",
       "21566                                 Wages and Prices         NaN  \n",
       "21591                                           Retail         NaN  \n",
       "21605                                    Return to top         NaN  \n",
       "21676                                                S         NaN  \n",
       "21724                                    Manufacturing         NaN  \n",
       "21813                                    Manufacturing         NaN  \n",
       "21839                      with some exceptions noted.         NaN  \n",
       "21904                                    Manufacturing         NaN  \n",
       "21993                                    Manufacturing         NaN  \n",
       "22083                                    Manufacturing         NaN  \n",
       "22173                                    Manufacturing         NaN  \n",
       "22440                                    Manufacturing         NaN  \n",
       "22529                                    Manufacturing         NaN  \n",
       "22532                                Consumer Spending         NaN  \n",
       "22710                                    Manufacturing         NaN  \n",
       "22898                                    Manufacturing         NaN  \n",
       "22959                     Real Estate and Construction         NaN  \n",
       "23535                                Consumer Spending         NaN  \n",
       "23579                                    Manufacturing         NaN  \n",
       "23716                                          Banking         NaN  \n",
       "24846                                                .         NaN  \n",
       "25178                                                .         NaN  \n",
       "\n",
       "[139 rows x 5 columns]"
      ]
     },
     "execution_count": 29,
     "metadata": {},
     "output_type": "execute_result"
    }
   ],
   "source": [
    "print(len(beige[texts_series.isnull()]))\n",
    "beige[texts_series.isnull()]"
   ]
  },
  {
   "cell_type": "code",
   "execution_count": 7,
   "metadata": {},
   "outputs": [
    {
     "data": {
      "text/plain": [
       "25134"
      ]
     },
     "execution_count": 7,
     "metadata": {},
     "output_type": "execute_result"
    }
   ],
   "source": [
    "#get rid of empty text records\n",
    "beige.dropna(axis = 0, how = 'any', inplace = True)\n",
    "len(beige)"
   ]
  },
  {
   "cell_type": "code",
   "execution_count": 31,
   "metadata": {},
   "outputs": [
    {
     "data": {
      "text/plain": [
       "str"
      ]
     },
     "execution_count": 31,
     "metadata": {},
     "output_type": "execute_result"
    }
   ],
   "source": [
    "type(beige['Sector Text'][0])"
   ]
  },
  {
   "cell_type": "code",
   "execution_count": 8,
   "metadata": {
    "collapsed": true
   },
   "outputs": [],
   "source": [
    "#lowercase all records\n",
    "beige['Sector Text'] = beige['Sector Text'].str.lower()"
   ]
  },
  {
   "cell_type": "code",
   "execution_count": 9,
   "metadata": {},
   "outputs": [
    {
     "data": {
      "text/plain": [
       "\"the mood of our directors varies from pessimism to optimism. if any consensus exists, it is that business activity in the sixth district will continue to weaken slightly. many major economic indices should drift downward or mark time for the next two months at least.in the pessimistic vein, a leading department store recently informed us that their sales are even with a year ago, but only because of the addition of branches; unit sales, of course, are lower. the store reported that labor costs were up 8 to 10 percent and profits were off. they were pessimistic about future department store sales and did not anticipate a quick economic recovery. a telephone survey of department stores indicates this conclusion is shared by many retailers throughout the southeast.according to directors' reports, retail sales in some areas have been adversely affected because of a diversion of purchasing power to private schools which have sprung up in response to integration orders. lumber mills in many areas have not been operating at profitable levels, and one major mill is planning to close down operations for three to six weeks to adjust inventories. a recovery in this industry is anticipated by the end of the year. the coal industry in tennessee is also stymied at the mine safety act, with which the industry claims it is impossible to comply.the temporary closing of oil leasing in the gulf because ofoil-slick problems continues to cause a slump in the louisiana gulf coast area. the outlook for the immediate future is pessimistic. difficulty in obtaining insurance will also continue to hold up construction in the wake of hurricane camille. also, a strike by 2,600 workers at gulf states power is hamstringing new construction in baton rouge and other areas served by this utility.the employment outlook remains bleak at the large number of military and aerospace installations in the south. financial districts of major metropolitan areas are expected to continue to experience a reduction in employment occurring throughout the brokerage business, and there has been some reduction in employment at a large bank.a recent canvass of institutional mortgage lenders indicates pessimistic outlook for single- and multi-family housing starts. atlanta and miami were the only moderately bright spots.higher prices of vegetables, peaches, and other agricultural commodities may be in prospect because of lower crop estimates and delayed plantings. production estimates of citrus fruit, however, remain bullish despite a mild drought.on the optimistic side of the ledger, many new plant locations and large-scale construction projects have been reported recently. for example, central alabama will be receiving a modular home plant, a poultry plant, and a foundry for production of parts for automobiles and other products. in southern louisiana, a new chemical plant has been announced and a large addition to an existing plant is planned. in the birmingham area, a rash of construction projects has been announced. in the new orleans area, plans for a new shopping center and another large motel have been announced. potential public construction in that area includes a large bridge, an airport, and a stadium.one director has reported a sizable increase in new orders because of a revival of capital projects that had been postponed last year.a real bright spot in our district has been the orlando area, where construction should continue to boom as disneyworld gains momentum. construction will soon be commencing on a very large residential project south of orlando.if a tentative wage settlement is ratified by ground workers of national airlines this week, it will provide a stimulus to activity in southeast florida in the coming weeks.\""
      ]
     },
     "execution_count": 9,
     "metadata": {},
     "output_type": "execute_result"
    }
   ],
   "source": [
    "beige['Sector Text'][0]"
   ]
  },
  {
   "cell_type": "code",
   "execution_count": 10,
   "metadata": {
    "collapsed": true
   },
   "outputs": [],
   "source": [
    "import re"
   ]
  },
  {
   "cell_type": "code",
   "execution_count": 35,
   "metadata": {},
   "outputs": [
    {
     "data": {
      "text/plain": [
       "'!\"#$%&\\'()*+,-./:;<=>?@[\\\\]^_`{|}~'"
      ]
     },
     "execution_count": 35,
     "metadata": {},
     "output_type": "execute_result"
    }
   ],
   "source": [
    "#get rid of punctuation marks\n",
    "punctuation"
   ]
  },
  {
   "cell_type": "code",
   "execution_count": 36,
   "metadata": {},
   "outputs": [
    {
     "data": {
      "text/plain": [
       "'this is an exmaple text 0 to use'"
      ]
     },
     "execution_count": 36,
     "metadata": {},
     "output_type": "execute_result"
    }
   ],
   "source": [
    "ex = 'this @(*&is an exmaple text *&^%@^}{(0} to use'\n",
    "re.sub('[^\\s\\w]', '', ex)"
   ]
  },
  {
   "cell_type": "code",
   "execution_count": 11,
   "metadata": {
    "collapsed": true
   },
   "outputs": [],
   "source": [
    "beige['Sector Text'].str.replace(r'[^\\w\\s]', '')\n",
    "beige['Sector Text'] = beige['Sector Text'].str.replace(r'[^\\w\\s]', '')"
   ]
  },
  {
   "cell_type": "code",
   "execution_count": null,
   "metadata": {},
   "outputs": [
    {
     "name": "stdout",
     "output_type": "stream",
     "text": [
      "showing info https://raw.githubusercontent.com/nltk/nltk_data/gh-pages/index.xml\n"
     ]
    }
   ],
   "source": [
    "#nltk.download()"
   ]
  },
  {
   "cell_type": "code",
   "execution_count": 12,
   "metadata": {},
   "outputs": [
    {
     "data": {
      "text/plain": [
       "array(['Atlanta', 'Boston', 'Chicago', 'Cleveland', 'Dallas',\n",
       "       'Kansas City', 'Minneapolis', 'New York', 'Philadelphia',\n",
       "       'Richmond', 'San Francisco', 'St Louis', 'District'], dtype=object)"
      ]
     },
     "execution_count": 12,
     "metadata": {},
     "output_type": "execute_result"
    }
   ],
   "source": [
    "beige['District'].unique()"
   ]
  },
  {
   "cell_type": "code",
   "execution_count": 46,
   "metadata": {
    "collapsed": true
   },
   "outputs": [],
   "source": [
    "#ny = beige[beige['District'] == 'New York']\n",
    "#ny.to_csv(path_or_buf = 'ny.csv', sep = ',', encoding='utf-8')"
   ]
  },
  {
   "cell_type": "code",
   "execution_count": 13,
   "metadata": {},
   "outputs": [
    {
     "ename": "NameError",
     "evalue": "name 'Table' is not defined",
     "output_type": "error",
     "traceback": [
      "\u001b[1;31m---------------------------------------------------------------------------\u001b[0m",
      "\u001b[1;31mNameError\u001b[0m                                 Traceback (most recent call last)",
      "\u001b[1;32m<ipython-input-13-f029a078ed60>\u001b[0m in \u001b[0;36m<module>\u001b[1;34m()\u001b[0m\n\u001b[1;32m----> 1\u001b[1;33m \u001b[0mtoks_tab\u001b[0m \u001b[1;33m=\u001b[0m \u001b[0mTable\u001b[0m\u001b[1;33m(\u001b[0m\u001b[1;33m)\u001b[0m\u001b[1;33m\u001b[0m\u001b[0m\n\u001b[0m\u001b[0;32m      2\u001b[0m \u001b[0mtoks_tab\u001b[0m\u001b[1;33m.\u001b[0m\u001b[0mappend_column\u001b[0m\u001b[1;33m(\u001b[0m\u001b[0mlabel\u001b[0m\u001b[1;33m=\u001b[0m\u001b[1;34m\"Word\"\u001b[0m\u001b[1;33m,\u001b[0m \u001b[0mvalues\u001b[0m\u001b[1;33m=\u001b[0m\u001b[1;33m[\u001b[0m\u001b[0mword\u001b[0m\u001b[1;33m.\u001b[0m\u001b[0mtext\u001b[0m \u001b[1;32mfor\u001b[0m \u001b[0mword\u001b[0m \u001b[1;32min\u001b[0m \u001b[0mbeige\u001b[0m\u001b[1;33m[\u001b[0m\u001b[1;34m'Sector Text'\u001b[0m\u001b[1;33m]\u001b[0m\u001b[1;33m[\u001b[0m\u001b[1;36m0\u001b[0m\u001b[1;33m]\u001b[0m\u001b[1;33m]\u001b[0m\u001b[1;33m)\u001b[0m\u001b[1;33m\u001b[0m\u001b[0m\n\u001b[0;32m      3\u001b[0m \u001b[0mtoks_tab\u001b[0m\u001b[1;33m.\u001b[0m\u001b[0mshow\u001b[0m\u001b[1;33m(\u001b[0m\u001b[1;33m)\u001b[0m\u001b[1;33m\u001b[0m\u001b[0m\n",
      "\u001b[1;31mNameError\u001b[0m: name 'Table' is not defined"
     ]
    }
   ],
   "source": [
    "toks_tab = Table()\n",
    "toks_tab.append_column(label=\"Word\", values=[word.text for word in beige['Sector Text'][0]])\n",
    "toks_tab.show()"
   ]
  },
  {
   "cell_type": "code",
   "execution_count": 14,
   "metadata": {},
   "outputs": [
    {
     "name": "stdout",
     "output_type": "stream",
     "text": [
      "[nltk_data] Downloading package stopwords to\n",
      "[nltk_data]     C:\\Users\\keiko\\AppData\\Roaming\\nltk_data...\n",
      "[nltk_data]   Package stopwords is already up-to-date!\n"
     ]
    },
    {
     "data": {
      "text/plain": [
       "True"
      ]
     },
     "execution_count": 14,
     "metadata": {},
     "output_type": "execute_result"
    }
   ],
   "source": [
    "nltk.download('stopwords')"
   ]
  },
  {
   "cell_type": "code",
   "execution_count": 15,
   "metadata": {
    "collapsed": true
   },
   "outputs": [],
   "source": [
    "#get rid of stop words\n",
    "stop_words = stopwords.words('english')"
   ]
  },
  {
   "cell_type": "code",
   "execution_count": 16,
   "metadata": {
    "collapsed": true
   },
   "outputs": [],
   "source": [
    "#remove stop words\n",
    "def rem_stop(text):\n",
    "    \n",
    "    from nltk.corpus import stopwords\n",
    "    \n",
    "    stop_words = stopwords.words(\"english\")\n",
    "       \n",
    "    toks = nltk.word_tokenize(text)\n",
    "    toks_reduced = [x for x in toks if x.lower() not in stopwords.words('english')]\n",
    "    \n",
    "    return toks_reduced "
   ]
  },
  {
   "cell_type": "code",
   "execution_count": 56,
   "metadata": {},
   "outputs": [
    {
     "data": {
      "text/plain": [
       "25134"
      ]
     },
     "execution_count": 56,
     "metadata": {},
     "output_type": "execute_result"
    }
   ],
   "source": [
    "len(beige['Sector Text'])"
   ]
  },
  {
   "cell_type": "code",
   "execution_count": 17,
   "metadata": {},
   "outputs": [],
   "source": [
    "beige['tokenized'] = [rem_stop(t) for t in beige['Sector Text']]"
   ]
  },
  {
   "cell_type": "code",
   "execution_count": 18,
   "metadata": {
    "collapsed": true
   },
   "outputs": [],
   "source": [
    "beige.to_csv(path_or_buf = 'beige_tokenized.csv', sep = ',', encoding='utf-8')"
   ]
  },
  {
   "cell_type": "code",
   "execution_count": 20,
   "metadata": {},
   "outputs": [
    {
     "data": {
      "text/html": [
       "<div>\n",
       "<style>\n",
       "    .dataframe thead tr:only-child th {\n",
       "        text-align: right;\n",
       "    }\n",
       "\n",
       "    .dataframe thead th {\n",
       "        text-align: left;\n",
       "    }\n",
       "\n",
       "    .dataframe tbody tr th {\n",
       "        vertical-align: top;\n",
       "    }\n",
       "</style>\n",
       "<table border=\"1\" class=\"dataframe\">\n",
       "  <thead>\n",
       "    <tr style=\"text-align: right;\">\n",
       "      <th></th>\n",
       "      <th>Unnamed: 0</th>\n",
       "      <th>ID</th>\n",
       "      <th>Date</th>\n",
       "      <th>District</th>\n",
       "      <th>Sector Heading</th>\n",
       "      <th>Sector Text</th>\n",
       "      <th>tokenized</th>\n",
       "    </tr>\n",
       "  </thead>\n",
       "  <tbody>\n",
       "    <tr>\n",
       "      <th>0</th>\n",
       "      <td>0</td>\n",
       "      <td>1</td>\n",
       "      <td>5-20-1970</td>\n",
       "      <td>Atlanta</td>\n",
       "      <td>Summary of Economic Activity</td>\n",
       "      <td>the mood of our directors varies from pessimis...</td>\n",
       "      <td>['mood', 'directors', 'varies', 'pessimism', '...</td>\n",
       "    </tr>\n",
       "    <tr>\n",
       "      <th>1</th>\n",
       "      <td>1</td>\n",
       "      <td>2</td>\n",
       "      <td>5-20-1970</td>\n",
       "      <td>Boston</td>\n",
       "      <td>Summary of Economic Activity</td>\n",
       "      <td>discussions monday may 18 and last friday with...</td>\n",
       "      <td>['discussions', 'monday', 'may', '18', 'last',...</td>\n",
       "    </tr>\n",
       "    <tr>\n",
       "      <th>2</th>\n",
       "      <td>2</td>\n",
       "      <td>3</td>\n",
       "      <td>5-20-1970</td>\n",
       "      <td>Chicago</td>\n",
       "      <td>Summary of Economic Activity</td>\n",
       "      <td>in published statements and private conversati...</td>\n",
       "      <td>['published', 'statements', 'private', 'conver...</td>\n",
       "    </tr>\n",
       "    <tr>\n",
       "      <th>3</th>\n",
       "      <td>3</td>\n",
       "      <td>4</td>\n",
       "      <td>5-20-1970</td>\n",
       "      <td>Cleveland</td>\n",
       "      <td>Summary of Economic Activity</td>\n",
       "      <td>economic activity in the district has been dis...</td>\n",
       "      <td>['economic', 'activity', 'district', 'disrupte...</td>\n",
       "    </tr>\n",
       "    <tr>\n",
       "      <th>4</th>\n",
       "      <td>4</td>\n",
       "      <td>5</td>\n",
       "      <td>5-20-1970</td>\n",
       "      <td>Dallas</td>\n",
       "      <td>Summary of Economic Activity</td>\n",
       "      <td>continued inflation is the major concern of el...</td>\n",
       "      <td>['continued', 'inflation', 'major', 'concern',...</td>\n",
       "    </tr>\n",
       "  </tbody>\n",
       "</table>\n",
       "</div>"
      ],
      "text/plain": [
       "   Unnamed: 0 ID       Date   District                Sector Heading  \\\n",
       "0           0  1  5-20-1970    Atlanta  Summary of Economic Activity   \n",
       "1           1  2  5-20-1970     Boston  Summary of Economic Activity   \n",
       "2           2  3  5-20-1970    Chicago  Summary of Economic Activity   \n",
       "3           3  4  5-20-1970  Cleveland  Summary of Economic Activity   \n",
       "4           4  5  5-20-1970     Dallas  Summary of Economic Activity   \n",
       "\n",
       "                                         Sector Text  \\\n",
       "0  the mood of our directors varies from pessimis...   \n",
       "1  discussions monday may 18 and last friday with...   \n",
       "2  in published statements and private conversati...   \n",
       "3  economic activity in the district has been dis...   \n",
       "4  continued inflation is the major concern of el...   \n",
       "\n",
       "                                           tokenized  \n",
       "0  ['mood', 'directors', 'varies', 'pessimism', '...  \n",
       "1  ['discussions', 'monday', 'may', '18', 'last',...  \n",
       "2  ['published', 'statements', 'private', 'conver...  \n",
       "3  ['economic', 'activity', 'district', 'disrupte...  \n",
       "4  ['continued', 'inflation', 'major', 'concern',...  "
      ]
     },
     "execution_count": 20,
     "metadata": {},
     "output_type": "execute_result"
    }
   ],
   "source": [
    "token = pd.read_csv('beige_tokenized.csv')\n",
    "token.head()\n",
    "\n"
   ]
  },
  {
   "cell_type": "code",
   "execution_count": null,
   "metadata": {
    "collapsed": true
   },
   "outputs": [],
   "source": [
    "len(token['tokenized'][0])"
   ]
  },
  {
   "cell_type": "code",
   "execution_count": null,
   "metadata": {
    "collapsed": true
   },
   "outputs": [],
   "source": []
  }
 ],
 "metadata": {
  "kernelspec": {
   "display_name": "Python 3",
   "language": "python",
   "name": "python3"
  },
  "language_info": {
   "codemirror_mode": {
    "name": "ipython",
    "version": 3
   },
   "file_extension": ".py",
   "mimetype": "text/x-python",
   "name": "python",
   "nbconvert_exporter": "python",
   "pygments_lexer": "ipython3",
   "version": "3.6.3"
  }
 },
 "nbformat": 4,
 "nbformat_minor": 2
}
