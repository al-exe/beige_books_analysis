{
 "cells": [
  {
   "cell_type": "markdown",
   "metadata": {},
   "source": [
    "# Topic Modelling"
   ]
  },
  {
   "cell_type": "code",
   "execution_count": 1,
   "metadata": {},
   "outputs": [
    {
     "name": "stderr",
     "output_type": "stream",
     "text": [
      "C:\\Users\\keiko\\Anaconda3\\lib\\site-packages\\gensim\\utils.py:1197: UserWarning: detected Windows; aliasing chunkize to chunkize_serial\n",
      "  warnings.warn(\"detected Windows; aliasing chunkize to chunkize_serial\")\n"
     ]
    }
   ],
   "source": [
    "import pandas as pd\n",
    "import gensim"
   ]
  },
  {
   "cell_type": "code",
   "execution_count": 2,
   "metadata": {},
   "outputs": [
    {
     "data": {
      "text/html": [
       "<div>\n",
       "<style>\n",
       "    .dataframe thead tr:only-child th {\n",
       "        text-align: right;\n",
       "    }\n",
       "\n",
       "    .dataframe thead th {\n",
       "        text-align: left;\n",
       "    }\n",
       "\n",
       "    .dataframe tbody tr th {\n",
       "        vertical-align: top;\n",
       "    }\n",
       "</style>\n",
       "<table border=\"1\" class=\"dataframe\">\n",
       "  <thead>\n",
       "    <tr style=\"text-align: right;\">\n",
       "      <th></th>\n",
       "      <th>Unnamed: 0</th>\n",
       "      <th>ID</th>\n",
       "      <th>Date</th>\n",
       "      <th>District</th>\n",
       "      <th>Sector Heading</th>\n",
       "      <th>nostop_stem</th>\n",
       "    </tr>\n",
       "  </thead>\n",
       "  <tbody>\n",
       "    <tr>\n",
       "      <th>0</th>\n",
       "      <td>0</td>\n",
       "      <td>1</td>\n",
       "      <td>5-20-1970</td>\n",
       "      <td>Atlanta</td>\n",
       "      <td>Summary of Economic Activity</td>\n",
       "      <td>['mood', 'director', 'vary', 'pessimism', 'opt...</td>\n",
       "    </tr>\n",
       "    <tr>\n",
       "      <th>1</th>\n",
       "      <td>1</td>\n",
       "      <td>2</td>\n",
       "      <td>5-20-1970</td>\n",
       "      <td>Boston</td>\n",
       "      <td>Summary of Economic Activity</td>\n",
       "      <td>['discussion', 'monday', '18', 'friday', 'dist...</td>\n",
       "    </tr>\n",
       "    <tr>\n",
       "      <th>2</th>\n",
       "      <td>2</td>\n",
       "      <td>3</td>\n",
       "      <td>5-20-1970</td>\n",
       "      <td>Chicago</td>\n",
       "      <td>Summary of Economic Activity</td>\n",
       "      <td>['publish', 'statement', 'private', 'conversat...</td>\n",
       "    </tr>\n",
       "    <tr>\n",
       "      <th>3</th>\n",
       "      <td>3</td>\n",
       "      <td>4</td>\n",
       "      <td>5-20-1970</td>\n",
       "      <td>Cleveland</td>\n",
       "      <td>Summary of Economic Activity</td>\n",
       "      <td>['economic', 'activity', 'district', 'disrupt'...</td>\n",
       "    </tr>\n",
       "    <tr>\n",
       "      <th>4</th>\n",
       "      <td>4</td>\n",
       "      <td>5</td>\n",
       "      <td>5-20-1970</td>\n",
       "      <td>Dallas</td>\n",
       "      <td>Summary of Economic Activity</td>\n",
       "      <td>['continue', 'inflation', 'major', 'concern', ...</td>\n",
       "    </tr>\n",
       "  </tbody>\n",
       "</table>\n",
       "</div>"
      ],
      "text/plain": [
       "   Unnamed: 0  ID       Date   District                Sector Heading  \\\n",
       "0           0   1  5-20-1970    Atlanta  Summary of Economic Activity   \n",
       "1           1   2  5-20-1970     Boston  Summary of Economic Activity   \n",
       "2           2   3  5-20-1970    Chicago  Summary of Economic Activity   \n",
       "3           3   4  5-20-1970  Cleveland  Summary of Economic Activity   \n",
       "4           4   5  5-20-1970     Dallas  Summary of Economic Activity   \n",
       "\n",
       "                                         nostop_stem  \n",
       "0  ['mood', 'director', 'vary', 'pessimism', 'opt...  \n",
       "1  ['discussion', 'monday', '18', 'friday', 'dist...  \n",
       "2  ['publish', 'statement', 'private', 'conversat...  \n",
       "3  ['economic', 'activity', 'district', 'disrupt'...  \n",
       "4  ['continue', 'inflation', 'major', 'concern', ...  "
      ]
     },
     "execution_count": 2,
     "metadata": {},
     "output_type": "execute_result"
    }
   ],
   "source": [
    "beige=pd.read_csv('noSS_table.csv')\n",
    "beige.head()"
   ]
  },
  {
   "cell_type": "code",
   "execution_count": 3,
   "metadata": {},
   "outputs": [
    {
     "data": {
      "text/plain": [
       "str"
      ]
     },
     "execution_count": 3,
     "metadata": {},
     "output_type": "execute_result"
    }
   ],
   "source": [
    "type(list(beige['nostop_stem'])[0])"
   ]
  },
  {
   "cell_type": "code",
   "execution_count": 4,
   "metadata": {},
   "outputs": [
    {
     "data": {
      "text/plain": [
       "list"
      ]
     },
     "execution_count": 4,
     "metadata": {},
     "output_type": "execute_result"
    }
   ],
   "source": [
    "corpus = [eval(beige['nostop_stem'][i]) for i in range(len(beige))]\n",
    "type(corpus[:3][0])"
   ]
  },
  {
   "cell_type": "code",
   "execution_count": 13,
   "metadata": {
    "collapsed": true
   },
   "outputs": [],
   "source": [
    "#download en on spaCy\n",
    "import en_core_web_sm\n",
    "nlp = en_core_web_sm.load()"
   ]
  },
  {
   "cell_type": "code",
   "execution_count": 14,
   "metadata": {
    "collapsed": true
   },
   "outputs": [],
   "source": [
    "def tablefier(parsed_text):\n",
    "    toks_tab = pd.DataFrame()\n",
    "    toks_tab['Word'] = [word.text for word in parsed_text]\n",
    "    toks_tab['POS'] = [word.pos_ for word in parsed_text]\n",
    "    return toks_tab"
   ]
  },
  {
   "cell_type": "code",
   "execution_count": 15,
   "metadata": {
    "collapsed": true
   },
   "outputs": [],
   "source": [
    "parsed = nlp(beige['nostop_stem'][0])"
   ]
  },
  {
   "cell_type": "code",
   "execution_count": 24,
   "metadata": {
    "collapsed": true
   },
   "outputs": [],
   "source": [
    "gram = tablefier(parsed)\n",
    "gram= gram[gram['POS'] != 'PUNCT']\n",
    "gram=gram[gram['POS']!='ADP']"
   ]
  },
  {
   "cell_type": "code",
   "execution_count": 31,
   "metadata": {},
   "outputs": [
    {
     "data": {
      "text/plain": [
       "['activity',\n",
       " 'addition',\n",
       " 'announce',\n",
       " 'anticipate',\n",
       " 'area',\n",
       " 'bright',\n",
       " 'business',\n",
       " 'construction',\n",
       " 'continue',\n",
       " 'department',\n",
       " 'director',\n",
       " 'district',\n",
       " 'economic',\n",
       " 'employment',\n",
       " 'estimate',\n",
       " 'exist',\n",
       " 'future',\n",
       " 'gulf',\n",
       " 'indicate',\n",
       " 'industry',\n",
       " 'large',\n",
       " 'louisiana',\n",
       " 'low',\n",
       " 'major',\n",
       " 'mill',\n",
       " 'new',\n",
       " 'order',\n",
       " 'outlook',\n",
       " 'pessimistic',\n",
       " 'plan',\n",
       " 'plant',\n",
       " 'power',\n",
       " 'production',\n",
       " 'project',\n",
       " 'recently',\n",
       " 'recovery',\n",
       " 'reduction',\n",
       " 'remain',\n",
       " 'report',\n",
       " 'sale',\n",
       " 'south',\n",
       " 'store',\n",
       " 'week',\n",
       " 'worker',\n",
       " 'year']"
      ]
     },
     "execution_count": 31,
     "metadata": {},
     "output_type": "execute_result"
    }
   ],
   "source": [
    "grouped = gram.groupby('Word').count()\n",
    "list(grouped[grouped['POS'] >1].index)"
   ]
  },
  {
   "cell_type": "code",
   "execution_count": null,
   "metadata": {
    "collapsed": true
   },
   "outputs": [],
   "source": [
    "new_corpus = []\n",
    "for t in beige['nostop_stem']:\n",
    "    parsed = nlp(t)\n",
    "    gram = tablefier(parsed)\n",
    "    gram= gram[(gram['POS'] != 'PUNCT')&(gram['POS']!='ADP')]\n",
    "    grouped = gram.groupby('Word').count()\n",
    "    new_corpus.append(list(grouped[grouped['POS'] >1].index))"
   ]
  },
  {
   "cell_type": "code",
   "execution_count": null,
   "metadata": {
    "collapsed": true
   },
   "outputs": [],
   "source": [
    "beige['improved'] = new_corpus"
   ]
  },
  {
   "cell_type": "code",
   "execution_count": null,
   "metadata": {
    "collapsed": true
   },
   "outputs": [],
   "source": [
    "beige.to_csv(path_or_buf = 'improved.csv', sep = ',', encoding='utf-8')"
   ]
  },
  {
   "cell_type": "code",
   "execution_count": 12,
   "metadata": {},
   "outputs": [
    {
     "data": {
      "text/plain": [
       "0    ['mood', 'director', 'vary', 'pessimism', 'opt...\n",
       "1    ['discussion', 'monday', '18', 'friday', 'dist...\n",
       "2    ['publish', 'statement', 'private', 'conversat...\n",
       "3    ['economic', 'activity', 'district', 'disrupt'...\n",
       "4    ['continue', 'inflation', 'major', 'concern', ...\n",
       "Name: nostop_stem, dtype: object"
      ]
     },
     "execution_count": 12,
     "metadata": {},
     "output_type": "execute_result"
    }
   ],
   "source": [
    "beige['nostop_stem'].head()"
   ]
  },
  {
   "cell_type": "code",
   "execution_count": 5,
   "metadata": {
    "collapsed": true
   },
   "outputs": [],
   "source": [
    "from gensim import corpora"
   ]
  },
  {
   "cell_type": "code",
   "execution_count": 7,
   "metadata": {
    "collapsed": true
   },
   "outputs": [],
   "source": [
    "# Creating the term dictionary of our courpus, where every unique term is assigned an index\n",
    "dictionary = corpora.Dictionary(corpus)"
   ]
  },
  {
   "cell_type": "code",
   "execution_count": 8,
   "metadata": {
    "collapsed": true
   },
   "outputs": [],
   "source": [
    "# Converting list of documents (corpus) into Document Term Matrix using dictionary prepared above\n",
    "doc_term_matrix = [dictionary.doc2bow(doc) for doc in corpus]"
   ]
  },
  {
   "cell_type": "code",
   "execution_count": 9,
   "metadata": {
    "collapsed": true
   },
   "outputs": [],
   "source": [
    "# Creating the object for LDA model using gensim library\n",
    "Lda = gensim.models.ldamodel.LdaModel"
   ]
  },
  {
   "cell_type": "code",
   "execution_count": 10,
   "metadata": {
    "collapsed": true
   },
   "outputs": [],
   "source": [
    "# Running and Trainign LDA model on the document term matrix.\n",
    "ldamodel = Lda(doc_term_matrix, num_topics=3, id2word = dictionary, passes=1)"
   ]
  },
  {
   "cell_type": "code",
   "execution_count": 11,
   "metadata": {},
   "outputs": [
    {
     "name": "stdout",
     "output_type": "stream",
     "text": [
      "[(0, '0.024*\"report\" + 0.020*\"activity\" + 0.018*\"loan\"'), (1, '0.029*\"price\" + 0.020*\"report\" + 0.020*\"increase\"'), (2, '0.030*\"report\" + 0.029*\"sale\" + 0.021*\"contact\"')]\n"
     ]
    }
   ],
   "source": [
    "print(ldamodel.print_topics(num_topics=3, num_words=3))"
   ]
  },
  {
   "cell_type": "code",
   "execution_count": null,
   "metadata": {
    "collapsed": true
   },
   "outputs": [],
   "source": []
  }
 ],
 "metadata": {
  "kernelspec": {
   "display_name": "Python 3",
   "language": "python",
   "name": "python3"
  },
  "language_info": {
   "codemirror_mode": {
    "name": "ipython",
    "version": 3
   },
   "file_extension": ".py",
   "mimetype": "text/x-python",
   "name": "python",
   "nbconvert_exporter": "python",
   "pygments_lexer": "ipython3",
   "version": "3.6.3"
  }
 },
 "nbformat": 4,
 "nbformat_minor": 2
}
