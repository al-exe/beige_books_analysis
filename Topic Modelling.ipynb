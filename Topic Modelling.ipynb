{
 "cells": [
  {
   "cell_type": "markdown",
   "metadata": {},
   "source": [
    "# Topic Modelling"
   ]
  },
  {
   "cell_type": "code",
   "execution_count": 1,
   "metadata": {},
   "outputs": [],
   "source": [
    "import pandas as pd\n",
    "import gensim"
   ]
  },
  {
   "cell_type": "code",
   "execution_count": 2,
   "metadata": {},
   "outputs": [
    {
     "data": {
      "text/html": [
       "<div>\n",
       "<style>\n",
       "    .dataframe thead tr:only-child th {\n",
       "        text-align: right;\n",
       "    }\n",
       "\n",
       "    .dataframe thead th {\n",
       "        text-align: left;\n",
       "    }\n",
       "\n",
       "    .dataframe tbody tr th {\n",
       "        vertical-align: top;\n",
       "    }\n",
       "</style>\n",
       "<table border=\"1\" class=\"dataframe\">\n",
       "  <thead>\n",
       "    <tr style=\"text-align: right;\">\n",
       "      <th></th>\n",
       "      <th>Unnamed: 0</th>\n",
       "      <th>Unnamed: 0.1</th>\n",
       "      <th>ID</th>\n",
       "      <th>Date</th>\n",
       "      <th>District</th>\n",
       "      <th>Sector Heading</th>\n",
       "      <th>nostop_stem</th>\n",
       "      <th>clean</th>\n",
       "    </tr>\n",
       "  </thead>\n",
       "  <tbody>\n",
       "    <tr>\n",
       "      <th>0</th>\n",
       "      <td>0</td>\n",
       "      <td>0</td>\n",
       "      <td>1</td>\n",
       "      <td>5-20-1970</td>\n",
       "      <td>Atlanta</td>\n",
       "      <td>Summary of Economic Activity</td>\n",
       "      <td>['mood', 'director', 'vary', 'pessimism', 'opt...</td>\n",
       "      <td>['mood', 'director', 'vary', 'pessimism', 'opt...</td>\n",
       "    </tr>\n",
       "    <tr>\n",
       "      <th>1</th>\n",
       "      <td>1</td>\n",
       "      <td>1</td>\n",
       "      <td>2</td>\n",
       "      <td>5-20-1970</td>\n",
       "      <td>Boston</td>\n",
       "      <td>Summary of Economic Activity</td>\n",
       "      <td>['discussion', 'monday', '18', 'friday', 'dist...</td>\n",
       "      <td>['discussion', 'monday', 'friday', 'district',...</td>\n",
       "    </tr>\n",
       "    <tr>\n",
       "      <th>2</th>\n",
       "      <td>2</td>\n",
       "      <td>2</td>\n",
       "      <td>3</td>\n",
       "      <td>5-20-1970</td>\n",
       "      <td>Chicago</td>\n",
       "      <td>Summary of Economic Activity</td>\n",
       "      <td>['publish', 'statement', 'private', 'conversat...</td>\n",
       "      <td>['publish', 'statement', 'private', 'conversat...</td>\n",
       "    </tr>\n",
       "    <tr>\n",
       "      <th>3</th>\n",
       "      <td>3</td>\n",
       "      <td>3</td>\n",
       "      <td>4</td>\n",
       "      <td>5-20-1970</td>\n",
       "      <td>Cleveland</td>\n",
       "      <td>Summary of Economic Activity</td>\n",
       "      <td>['economic', 'activity', 'district', 'disrupt'...</td>\n",
       "      <td>['economic', 'activity', 'district', 'disrupt'...</td>\n",
       "    </tr>\n",
       "    <tr>\n",
       "      <th>4</th>\n",
       "      <td>4</td>\n",
       "      <td>4</td>\n",
       "      <td>5</td>\n",
       "      <td>5-20-1970</td>\n",
       "      <td>Dallas</td>\n",
       "      <td>Summary of Economic Activity</td>\n",
       "      <td>['continue', 'inflation', 'major', 'concern', ...</td>\n",
       "      <td>['continue', 'inflation', 'major', 'concern', ...</td>\n",
       "    </tr>\n",
       "  </tbody>\n",
       "</table>\n",
       "</div>"
      ],
      "text/plain": [
       "   Unnamed: 0  Unnamed: 0.1  ID       Date   District  \\\n",
       "0           0             0   1  5-20-1970    Atlanta   \n",
       "1           1             1   2  5-20-1970     Boston   \n",
       "2           2             2   3  5-20-1970    Chicago   \n",
       "3           3             3   4  5-20-1970  Cleveland   \n",
       "4           4             4   5  5-20-1970     Dallas   \n",
       "\n",
       "                 Sector Heading  \\\n",
       "0  Summary of Economic Activity   \n",
       "1  Summary of Economic Activity   \n",
       "2  Summary of Economic Activity   \n",
       "3  Summary of Economic Activity   \n",
       "4  Summary of Economic Activity   \n",
       "\n",
       "                                         nostop_stem  \\\n",
       "0  ['mood', 'director', 'vary', 'pessimism', 'opt...   \n",
       "1  ['discussion', 'monday', '18', 'friday', 'dist...   \n",
       "2  ['publish', 'statement', 'private', 'conversat...   \n",
       "3  ['economic', 'activity', 'district', 'disrupt'...   \n",
       "4  ['continue', 'inflation', 'major', 'concern', ...   \n",
       "\n",
       "                                               clean  \n",
       "0  ['mood', 'director', 'vary', 'pessimism', 'opt...  \n",
       "1  ['discussion', 'monday', 'friday', 'district',...  \n",
       "2  ['publish', 'statement', 'private', 'conversat...  \n",
       "3  ['economic', 'activity', 'district', 'disrupt'...  \n",
       "4  ['continue', 'inflation', 'major', 'concern', ...  "
      ]
     },
     "execution_count": 2,
     "metadata": {},
     "output_type": "execute_result"
    }
   ],
   "source": [
    "beige=pd.read_csv('improved.csv')\n",
    "beige.head()"
   ]
  },
  {
   "cell_type": "code",
   "execution_count": 3,
   "metadata": {},
   "outputs": [
    {
     "data": {
      "text/plain": [
       "str"
      ]
     },
     "execution_count": 3,
     "metadata": {},
     "output_type": "execute_result"
    }
   ],
   "source": [
    "type(list(beige['nostop_stem'])[0])"
   ]
  },
  {
   "cell_type": "code",
   "execution_count": 4,
   "metadata": {},
   "outputs": [
    {
     "data": {
      "text/plain": [
       "list"
      ]
     },
     "execution_count": 4,
     "metadata": {},
     "output_type": "execute_result"
    }
   ],
   "source": [
    "corpus = [eval(beige['nostop_stem'][i]) for i in range(len(beige))]\n",
    "type(corpus[:3][0])"
   ]
  },
  {
   "cell_type": "code",
   "execution_count": 5,
   "metadata": {
    "collapsed": true
   },
   "outputs": [],
   "source": [
    "#download en on spaCy\n",
    "import en_core_web_sm\n",
    "nlp = en_core_web_sm.load()"
   ]
  },
  {
   "cell_type": "code",
   "execution_count": 6,
   "metadata": {
    "collapsed": true
   },
   "outputs": [],
   "source": [
    "def tablefier(parsed_text):\n",
    "    toks_tab = pd.DataFrame()\n",
    "    toks_tab['Word'] = [word.text for word in parsed_text]\n",
    "    toks_tab['POS'] = [word.pos_ for word in parsed_text]\n",
    "    return toks_tab"
   ]
  },
  {
   "cell_type": "code",
   "execution_count": 7,
   "metadata": {
    "collapsed": true
   },
   "outputs": [],
   "source": [
    "parsed = nlp(beige['nostop_stem'][0])"
   ]
  },
  {
   "cell_type": "code",
   "execution_count": 8,
   "metadata": {},
   "outputs": [
    {
     "data": {
      "text/plain": [
       "\"['mood', 'director', 'vary', 'pessimism', 'optimism', 'consensus', 'exist', 'business', 'activity', 'sixth', 'district', 'continue', 'weaken', 'slightly', 'major', 'economic', 'index', 'drift', 'downward', 'mark', 'time', 'month', 'leastin', 'pessimistic', 'vein', 'lead', 'department', 'store', 'recently', 'inform', 'sale', 'year', 'ago', 'addition', 'branch', 'unit', 'sale', 'course', 'low', 'store', 'report', 'labor', 'cost', '8', '10', 'percent', 'profit', 'pessimistic', 'future', 'department', 'store', 'sale', 'anticipate', 'quick', 'economic', 'recovery', 'telephone', 'survey', 'department', 'store', 'indicate', 'conclusion', 'share', 'retailer', 'southeastaccording', 'director', 'report', 'retail', 'sale', 'area', 'adversely', 'affect', 'diversion', 'purchase', 'power', 'private', 'school', 'spring', 'response', 'integration', 'order', 'lumber', 'mill', 'area', 'operate', 'profitable', 'level', 'major', 'mill', 'plan', 'close', 'operation', 'week', 'adjust', 'inventory', 'recovery', 'industry', 'anticipate', 'end', 'year', 'coal', 'industry', 'tennessee', 'stymie', 'safety', 'act', 'industry', 'claim', 'impossible', 'complythe', 'temporary', 'closing', 'oil', 'leasing', 'gulf', 'ofoilslick', 'problem', 'continue', 'because', 'slump', 'louisiana', 'gulf', 'coast', 'area', 'outlook', 'immediate', 'future', 'pessimistic', 'difficulty', 'obtain', 'insurance', 'continue', 'hold', 'construction', 'wake', 'hurricane', 'camille', 'strike', '2600', 'worker', 'gulf', 'state', 'power', 'hamstring', 'new', 'construction', 'baton', 'rouge', 'area', 'serve', 'utilitythe', 'employment', 'outlook', 'remain', 'bleak', 'large', 'number', 'military', 'aerospace', 'installation', 'south', 'financial', 'district', 'major', 'metropolitan', 'area', 'expect', 'continue', 'experience', 'reduction', 'employment', 'occur', 'brokerage', 'business', 'reduction', 'employment', 'large', 'banka', 'recent', 'canvass', 'institutional', 'mortgage', 'lender', 'indicate', 'pessimistic', 'outlook', 'single', 'multifamily', 'housing', 'start', 'atlanta', 'miami', 'moderately', 'bright', 'spotshigh', 'price', 'vegetable', 'peach', 'agricultural', 'commodity', 'prospect', 'low', 'crop', 'estimate', 'delay', 'planting', 'production', 'estimate', 'citrus', 'fruit', 'remain', 'bullish', 'despite', 'mild', 'droughton', 'optimistic', 'ledger', 'new', 'plant', 'location', 'largescale', 'construction', 'project', 'report', 'recently', 'example', 'central', 'alabama', 'receive', 'modular', 'home', 'plant', 'poultry', 'plant', 'foundry', 'production', 'part', 'automobile', 'product', 'southern', 'louisiana', 'new', 'chemical', 'plant', 'announce', 'large', 'addition', 'exist', 'plant', 'plan', 'birmingham', 'area', 'rash', 'construction', 'project', 'announce', 'new', 'orlean', 'area', 'plan', 'new', 'shopping', 'center', 'large', 'motel', 'announce', 'potential', 'public', 'construction', 'area', 'include', 'large', 'bridge', 'airport', 'stadiumone', 'director', 'report', 'sizable', 'increase', 'new', 'order', 'revival', 'capital', 'project', 'postpone', 'yeara', 'real', 'bright', 'spot', 'district', 'orlando', 'area', 'construction', 'continue', 'boom', 'disneyworld', 'gain', 'momentum', 'construction', 'soon', 'commence', 'large', 'residential', 'project', 'south', 'orlandoif', 'tentative', 'wage', 'settlement', 'ratify', 'ground', 'worker', 'national', 'airline', 'week', 'provide', 'stimulus', 'activity', 'southeast', 'florida', 'come', 'week']\""
      ]
     },
     "execution_count": 8,
     "metadata": {},
     "output_type": "execute_result"
    }
   ],
   "source": [
    "beige['nostop_stem'][0]"
   ]
  },
  {
   "cell_type": "code",
   "execution_count": 9,
   "metadata": {
    "collapsed": true
   },
   "outputs": [],
   "source": [
    "gram = tablefier(parsed)\n",
    "gram= gram[gram['POS'] != 'PUNCT']\n",
    "gram=gram[gram['POS']!='ADP']"
   ]
  },
  {
   "cell_type": "code",
   "execution_count": 54,
   "metadata": {},
   "outputs": [
    {
     "data": {
      "text/html": [
       "<div>\n",
       "<style>\n",
       "    .dataframe thead tr:only-child th {\n",
       "        text-align: right;\n",
       "    }\n",
       "\n",
       "    .dataframe thead th {\n",
       "        text-align: left;\n",
       "    }\n",
       "\n",
       "    .dataframe tbody tr th {\n",
       "        vertical-align: top;\n",
       "    }\n",
       "</style>\n",
       "<table border=\"1\" class=\"dataframe\">\n",
       "  <thead>\n",
       "    <tr style=\"text-align: right;\">\n",
       "      <th></th>\n",
       "      <th>Word</th>\n",
       "      <th>POS</th>\n",
       "    </tr>\n",
       "  </thead>\n",
       "  <tbody>\n",
       "    <tr>\n",
       "      <th>2</th>\n",
       "      <td>mood</td>\n",
       "      <td>NOUN</td>\n",
       "    </tr>\n",
       "    <tr>\n",
       "      <th>6</th>\n",
       "      <td>director</td>\n",
       "      <td>NOUN</td>\n",
       "    </tr>\n",
       "    <tr>\n",
       "      <th>10</th>\n",
       "      <td>vary</td>\n",
       "      <td>VERB</td>\n",
       "    </tr>\n",
       "    <tr>\n",
       "      <th>14</th>\n",
       "      <td>pessimism</td>\n",
       "      <td>NOUN</td>\n",
       "    </tr>\n",
       "    <tr>\n",
       "      <th>18</th>\n",
       "      <td>optimism</td>\n",
       "      <td>NOUN</td>\n",
       "    </tr>\n",
       "  </tbody>\n",
       "</table>\n",
       "</div>"
      ],
      "text/plain": [
       "         Word   POS\n",
       "2        mood  NOUN\n",
       "6    director  NOUN\n",
       "10       vary  VERB\n",
       "14  pessimism  NOUN\n",
       "18   optimism  NOUN"
      ]
     },
     "execution_count": 54,
     "metadata": {},
     "output_type": "execute_result"
    }
   ],
   "source": [
    "gram"
   ]
  },
  {
   "cell_type": "code",
   "execution_count": 6,
   "metadata": {
    "collapsed": true
   },
   "outputs": [],
   "source": [
    "one = pd.read_csv('noSS_onelist.csv')\n"
   ]
  },
  {
   "cell_type": "code",
   "execution_count": 7,
   "metadata": {
    "collapsed": true
   },
   "outputs": [],
   "source": [
    "ones = one.groupby('string').count()"
   ]
  },
  {
   "cell_type": "code",
   "execution_count": 8,
   "metadata": {},
   "outputs": [
    {
     "data": {
      "text/html": [
       "<div>\n",
       "<style>\n",
       "    .dataframe thead tr:only-child th {\n",
       "        text-align: right;\n",
       "    }\n",
       "\n",
       "    .dataframe thead th {\n",
       "        text-align: left;\n",
       "    }\n",
       "\n",
       "    .dataframe tbody tr th {\n",
       "        vertical-align: top;\n",
       "    }\n",
       "</style>\n",
       "<table border=\"1\" class=\"dataframe\">\n",
       "  <thead>\n",
       "    <tr style=\"text-align: right;\">\n",
       "      <th></th>\n",
       "      <th>Unnamed: 0</th>\n",
       "    </tr>\n",
       "    <tr>\n",
       "      <th>string</th>\n",
       "      <th></th>\n",
       "    </tr>\n",
       "  </thead>\n",
       "  <tbody>\n",
       "    <tr>\n",
       "      <th></th>\n",
       "      <td>420</td>\n",
       "    </tr>\n",
       "    <tr>\n",
       "      <th></th>\n",
       "      <td>3</td>\n",
       "    </tr>\n",
       "    <tr>\n",
       "      <th></th>\n",
       "      <td>1</td>\n",
       "    </tr>\n",
       "    <tr>\n",
       "      <th>-PRON-</th>\n",
       "      <td>5</td>\n",
       "    </tr>\n",
       "    <tr>\n",
       "      <th>0</th>\n",
       "      <td>30</td>\n",
       "    </tr>\n",
       "  </tbody>\n",
       "</table>\n",
       "</div>"
      ],
      "text/plain": [
       "        Unnamed: 0\n",
       "string            \n",
       "               420\n",
       "                 3\n",
       "                 1\n",
       "-PRON-           5\n",
       "0               30"
      ]
     },
     "execution_count": 8,
     "metadata": {},
     "output_type": "execute_result"
    }
   ],
   "source": [
    "ones.head()"
   ]
  },
  {
   "cell_type": "code",
   "execution_count": 9,
   "metadata": {},
   "outputs": [
    {
     "name": "stdout",
     "output_type": "stream",
     "text": [
      "total number of different words that appear once:  24967\n"
     ]
    }
   ],
   "source": [
    "print('total number of different words that appear once: ', len(ones[ones['Unnamed: 0'] == 1]))"
   ]
  },
  {
   "cell_type": "code",
   "execution_count": 10,
   "metadata": {},
   "outputs": [
    {
     "name": "stdout",
     "output_type": "stream",
     "text": [
      "total number of unique words:  40405\n"
     ]
    }
   ],
   "source": [
    "print('total number of unique words: ',len(ones))"
   ]
  },
  {
   "cell_type": "code",
   "execution_count": 11,
   "metadata": {},
   "outputs": [
    {
     "name": "stdout",
     "output_type": "stream",
     "text": [
      "total number of unique words appearing more than once:  15438\n"
     ]
    }
   ],
   "source": [
    "print('total number of unique words appearing more than once: ', len(ones)-24967)"
   ]
  },
  {
   "cell_type": "code",
   "execution_count": 12,
   "metadata": {
    "collapsed": true
   },
   "outputs": [],
   "source": [
    "oncewords = list(ones[ones['Unnamed: 0'] ==1].index)"
   ]
  },
  {
   "cell_type": "code",
   "execution_count": 13,
   "metadata": {},
   "outputs": [
    {
     "data": {
      "text/html": [
       "<div>\n",
       "<style>\n",
       "    .dataframe thead tr:only-child th {\n",
       "        text-align: right;\n",
       "    }\n",
       "\n",
       "    .dataframe thead th {\n",
       "        text-align: left;\n",
       "    }\n",
       "\n",
       "    .dataframe tbody tr th {\n",
       "        vertical-align: top;\n",
       "    }\n",
       "</style>\n",
       "<table border=\"1\" class=\"dataframe\">\n",
       "  <thead>\n",
       "    <tr style=\"text-align: right;\">\n",
       "      <th></th>\n",
       "      <th>Unnamed: 0</th>\n",
       "      <th>ID</th>\n",
       "      <th>Date</th>\n",
       "      <th>District</th>\n",
       "      <th>Sector Heading</th>\n",
       "      <th>nostop_stem</th>\n",
       "    </tr>\n",
       "  </thead>\n",
       "  <tbody>\n",
       "    <tr>\n",
       "      <th>0</th>\n",
       "      <td>0</td>\n",
       "      <td>1</td>\n",
       "      <td>5-20-1970</td>\n",
       "      <td>Atlanta</td>\n",
       "      <td>Summary of Economic Activity</td>\n",
       "      <td>['mood', 'director', 'vary', 'pessimism', 'opt...</td>\n",
       "    </tr>\n",
       "    <tr>\n",
       "      <th>1</th>\n",
       "      <td>1</td>\n",
       "      <td>2</td>\n",
       "      <td>5-20-1970</td>\n",
       "      <td>Boston</td>\n",
       "      <td>Summary of Economic Activity</td>\n",
       "      <td>['discussion', 'monday', '18', 'friday', 'dist...</td>\n",
       "    </tr>\n",
       "    <tr>\n",
       "      <th>2</th>\n",
       "      <td>2</td>\n",
       "      <td>3</td>\n",
       "      <td>5-20-1970</td>\n",
       "      <td>Chicago</td>\n",
       "      <td>Summary of Economic Activity</td>\n",
       "      <td>['publish', 'statement', 'private', 'conversat...</td>\n",
       "    </tr>\n",
       "    <tr>\n",
       "      <th>3</th>\n",
       "      <td>3</td>\n",
       "      <td>4</td>\n",
       "      <td>5-20-1970</td>\n",
       "      <td>Cleveland</td>\n",
       "      <td>Summary of Economic Activity</td>\n",
       "      <td>['economic', 'activity', 'district', 'disrupt'...</td>\n",
       "    </tr>\n",
       "    <tr>\n",
       "      <th>4</th>\n",
       "      <td>4</td>\n",
       "      <td>5</td>\n",
       "      <td>5-20-1970</td>\n",
       "      <td>Dallas</td>\n",
       "      <td>Summary of Economic Activity</td>\n",
       "      <td>['continue', 'inflation', 'major', 'concern', ...</td>\n",
       "    </tr>\n",
       "  </tbody>\n",
       "</table>\n",
       "</div>"
      ],
      "text/plain": [
       "   Unnamed: 0  ID       Date   District                Sector Heading  \\\n",
       "0           0   1  5-20-1970    Atlanta  Summary of Economic Activity   \n",
       "1           1   2  5-20-1970     Boston  Summary of Economic Activity   \n",
       "2           2   3  5-20-1970    Chicago  Summary of Economic Activity   \n",
       "3           3   4  5-20-1970  Cleveland  Summary of Economic Activity   \n",
       "4           4   5  5-20-1970     Dallas  Summary of Economic Activity   \n",
       "\n",
       "                                         nostop_stem  \n",
       "0  ['mood', 'director', 'vary', 'pessimism', 'opt...  \n",
       "1  ['discussion', 'monday', '18', 'friday', 'dist...  \n",
       "2  ['publish', 'statement', 'private', 'conversat...  \n",
       "3  ['economic', 'activity', 'district', 'disrupt'...  \n",
       "4  ['continue', 'inflation', 'major', 'concern', ...  "
      ]
     },
     "execution_count": 13,
     "metadata": {},
     "output_type": "execute_result"
    }
   ],
   "source": [
    "beige.head()"
   ]
  },
  {
   "cell_type": "code",
   "execution_count": null,
   "metadata": {
    "collapsed": true
   },
   "outputs": [],
   "source": [
    "a = [1,2, 3, 4, 5]\n",
    "type(str(a))\n",
    "str(a)"
   ]
  },
  {
   "cell_type": "code",
   "execution_count": null,
   "metadata": {
    "collapsed": true
   },
   "outputs": [],
   "source": [
    "new_corp= []\n",
    "for t in beige['nostop_stem']:\n",
    "    new = [word for word in t if word not in oncewords]\n",
    "    parsed = nlp(str(new))\n",
    "    gram = tablefier(parsed)\n",
    "    gram = gram[(gram['POS'] == 'NOUN')&(gram['POS']=='VERB')&(gram['POS']=='ADJ')]\n",
    "    new_corp.append(list(gram['Word']))"
   ]
  },
  {
   "cell_type": "code",
   "execution_count": null,
   "metadata": {
    "collapsed": true
   },
   "outputs": [],
   "source": [
    "beige['improved'] = new_corp"
   ]
  },
  {
   "cell_type": "code",
   "execution_count": null,
   "metadata": {
    "collapsed": true
   },
   "outputs": [],
   "source": [
    "beige.to_csv(path_or_buf = 'improved.csv', sep = ',', encoding='utf-8')"
   ]
  },
  {
   "cell_type": "code",
   "execution_count": null,
   "metadata": {
    "collapsed": true
   },
   "outputs": [],
   "source": [
    "beige['improved'].head()"
   ]
  },
  {
   "cell_type": "code",
   "execution_count": 5,
   "metadata": {
    "collapsed": true
   },
   "outputs": [],
   "source": [
    "from gensim import corpora"
   ]
  },
  {
   "cell_type": "code",
   "execution_count": 3,
   "metadata": {},
   "outputs": [
    {
     "ename": "NameError",
     "evalue": "name 'corpora' is not defined",
     "output_type": "error",
     "traceback": [
      "\u001b[1;31m---------------------------------------------------------------------------\u001b[0m",
      "\u001b[1;31mNameError\u001b[0m                                 Traceback (most recent call last)",
      "\u001b[1;32m<ipython-input-3-a8f08ce84e9c>\u001b[0m in \u001b[0;36m<module>\u001b[1;34m()\u001b[0m\n\u001b[0;32m      1\u001b[0m \u001b[1;31m# Creating the term dictionary of our courpus, where every unique term is assigned an index\u001b[0m\u001b[1;33m\u001b[0m\u001b[1;33m\u001b[0m\u001b[0m\n\u001b[1;32m----> 2\u001b[1;33m \u001b[0mdictionary\u001b[0m \u001b[1;33m=\u001b[0m \u001b[0mcorpora\u001b[0m\u001b[1;33m.\u001b[0m\u001b[0mDictionary\u001b[0m\u001b[1;33m(\u001b[0m\u001b[0mcorpus\u001b[0m\u001b[1;33m)\u001b[0m\u001b[1;33m\u001b[0m\u001b[0m\n\u001b[0m",
      "\u001b[1;31mNameError\u001b[0m: name 'corpora' is not defined"
     ]
    }
   ],
   "source": [
    "# Creating the term dictionary of our courpus, where every unique term is assigned an index\n",
    "dictionary = corpora.Dictionary(corpus)"
   ]
  },
  {
   "cell_type": "code",
   "execution_count": 8,
   "metadata": {
    "collapsed": true
   },
   "outputs": [],
   "source": [
    "# Converting list of documents (corpus) into Document Term Matrix using dictionary prepared above\n",
    "doc_term_matrix = [dictionary.doc2bow(doc) for doc in corpus]"
   ]
  },
  {
   "cell_type": "code",
   "execution_count": 9,
   "metadata": {
    "collapsed": true
   },
   "outputs": [],
   "source": [
    "# Creating the object for LDA model using gensim library\n",
    "Lda = gensim.models.ldamodel.LdaModel"
   ]
  },
  {
   "cell_type": "code",
   "execution_count": 10,
   "metadata": {
    "collapsed": true
   },
   "outputs": [],
   "source": [
    "# Running and Trainign LDA model on the document term matrix.\n",
    "ldamodel = Lda(doc_term_matrix, num_topics=3, id2word = dictionary, passes=1)"
   ]
  },
  {
   "cell_type": "code",
   "execution_count": 2,
   "metadata": {},
   "outputs": [
    {
     "ename": "NameError",
     "evalue": "name 'ldamodel' is not defined",
     "output_type": "error",
     "traceback": [
      "\u001b[1;31m---------------------------------------------------------------------------\u001b[0m",
      "\u001b[1;31mNameError\u001b[0m                                 Traceback (most recent call last)",
      "\u001b[1;32m<ipython-input-2-344f37dcfc6a>\u001b[0m in \u001b[0;36m<module>\u001b[1;34m()\u001b[0m\n\u001b[1;32m----> 1\u001b[1;33m \u001b[0mprint\u001b[0m\u001b[1;33m(\u001b[0m\u001b[0mldamodel\u001b[0m\u001b[1;33m.\u001b[0m\u001b[0mprint_topics\u001b[0m\u001b[1;33m(\u001b[0m\u001b[0mnum_topics\u001b[0m\u001b[1;33m=\u001b[0m\u001b[1;36m3\u001b[0m\u001b[1;33m,\u001b[0m \u001b[0mnum_words\u001b[0m\u001b[1;33m=\u001b[0m\u001b[1;36m10\u001b[0m\u001b[1;33m)\u001b[0m\u001b[1;33m)\u001b[0m\u001b[1;33m\u001b[0m\u001b[0m\n\u001b[0m",
      "\u001b[1;31mNameError\u001b[0m: name 'ldamodel' is not defined"
     ]
    }
   ],
   "source": [
    "print(ldamodel.print_topics(num_topics=30, num_words=10))"
   ]
  },
  {
   "cell_type": "code",
   "execution_count": null,
   "metadata": {
    "collapsed": true
   },
   "outputs": [],
   "source": []
  }
 ],
 "metadata": {
  "kernelspec": {
   "display_name": "Python 3",
   "language": "python",
   "name": "python3"
  },
  "language_info": {
   "codemirror_mode": {
    "name": "ipython",
    "version": 3
   },
   "file_extension": ".py",
   "mimetype": "text/x-python",
   "name": "python",
   "nbconvert_exporter": "python",
   "pygments_lexer": "ipython3",
   "version": "3.6.1"
  }
 },
 "nbformat": 4,
 "nbformat_minor": 2
}
