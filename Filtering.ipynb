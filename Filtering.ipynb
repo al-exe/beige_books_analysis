{
 "cells": [
  {
   "cell_type": "markdown",
   "metadata": {},
   "source": [
    "## Filtering -- thanks Ervin!"
   ]
  },
  {
   "cell_type": "code",
   "execution_count": null,
   "metadata": {},
   "outputs": [],
   "source": [
    "import pandas as pd\n",
    "#download en on spaCy\n",
    "import en_core_web_sm\n",
    "nlp = en_core_web_sm.load()"
   ]
  },
  {
   "cell_type": "code",
   "execution_count": null,
   "metadata": {},
   "outputs": [],
   "source": [
    "beige=pd.read_csv('noSS_table.csv')\n",
    "beige.head()"
   ]
  },
  {
   "cell_type": "code",
   "execution_count": null,
   "metadata": {},
   "outputs": [],
   "source": [
    "#converts the list of words back into list form (is read in as strings after converting to csv for some reason)\n",
    "corpus = [eval(beige['nostop_stem'][i]) for i in range(len(beige))]\n",
    "#type should be list\n",
    "type(corpus[:3][0])"
   ]
  },
  {
   "cell_type": "code",
   "execution_count": null,
   "metadata": {
    "collapsed": true
   },
   "outputs": [],
   "source": [
    "#makes table with a word column and part of speech column\n",
    "def tablefier(parsed_text):\n",
    "    toks_tab = pd.DataFrame()\n",
    "    toks_tab['Word'] = [word.text for word in parsed_text]\n",
    "    toks_tab['POS'] = [word.pos_ for word in parsed_text]\n",
    "    return toks_tab"
   ]
  },
  {
   "cell_type": "code",
   "execution_count": null,
   "metadata": {
    "collapsed": true
   },
   "outputs": [],
   "source": [
    "#creating a list of words that appear only once in entire corpus\n",
    "one = pd.read_csv('noSS_onelist.csv')\n",
    "ones = one.groupby('string').count()\n",
    "oncewords = list(ones[ones['Unnamed: 0'] ==1].index)"
   ]
  },
  {
   "cell_type": "markdown",
   "metadata": {},
   "source": [
    "#### This is the code block that took forever to run... D:"
   ]
  },
  {
   "cell_type": "code",
   "execution_count": null,
   "metadata": {
    "collapsed": true
   },
   "outputs": [],
   "source": [
    "#for every record: getting rid of words that appear only once in entire corpus, keeping only nouns, verbs and adjectives.\n",
    "new_corp = []\n",
    "for t in beige['nostop_stem']:\n",
    "    new = [word for word in eval(t) if word not in oncewords]\n",
    "    parsed = nlp(str(new))\n",
    "    gram = tablefier(parsed)\n",
    "    gram = gram[(gram['POS'] == 'NOUN')|(gram['POS']=='VERB')|(gram['POS']=='ADJ')]\n",
    "    new_corp.append(list(gram['Word']))"
   ]
  },
  {
   "cell_type": "code",
   "execution_count": null,
   "metadata": {
    "collapsed": true
   },
   "outputs": [],
   "source": [
    "#adding a 'clean' column\n",
    "beige['clean'] = new_corp"
   ]
  },
  {
   "cell_type": "code",
   "execution_count": null,
   "metadata": {
    "collapsed": true
   },
   "outputs": [],
   "source": [
    "#saving new table as csv\n",
    "beige.to_csv(path_or_buf = 'improved.csv', sep = ',', encoding='utf-8')"
   ]
  }
 ],
 "metadata": {
  "kernelspec": {
   "display_name": "Python 3",
   "language": "python",
   "name": "python3"
  },
  "language_info": {
   "codemirror_mode": {
    "name": "ipython",
    "version": 3
   },
   "file_extension": ".py",
   "mimetype": "text/x-python",
   "name": "python",
   "nbconvert_exporter": "python",
   "pygments_lexer": "ipython3",
   "version": "3.6.3"
  }
 },
 "nbformat": 4,
 "nbformat_minor": 2
}
